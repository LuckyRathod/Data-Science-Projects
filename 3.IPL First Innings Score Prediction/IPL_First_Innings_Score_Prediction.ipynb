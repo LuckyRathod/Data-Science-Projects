{
  "nbformat": 4,
  "nbformat_minor": 0,
  "metadata": {
    "colab": {
      "name": "IPL First Innings Score Prediction.ipynb",
      "provenance": [],
      "collapsed_sections": [],
      "toc_visible": true
    },
    "kernelspec": {
      "name": "python3",
      "display_name": "Python 3"
    }
  },
  "cells": [
    {
      "cell_type": "markdown",
      "metadata": {
        "id": "jOegLm30h0gz"
      },
      "source": [
        "## IPL First Innings Score Prediction\r\n",
        "\r\n",
        "In this Project ,  We mainly focus on all regression algorithms \r\n",
        "\r\n",
        "Aim of this project is to predict the First Inning Score based on various features"
      ]
    },
    {
      "cell_type": "markdown",
      "metadata": {
        "id": "FSzD2trWiKQ3"
      },
      "source": [
        "#### Import Libraries"
      ]
    },
    {
      "cell_type": "code",
      "metadata": {
        "colab": {
          "base_uri": "https://localhost:8080/"
        },
        "id": "aS140A6IVjWu",
        "outputId": "467b73ec-b972-4146-c9bd-429e20223f8b"
      },
      "source": [
        "!pip install catboost"
      ],
      "execution_count": 32,
      "outputs": [
        {
          "output_type": "stream",
          "text": [
            "Collecting catboost\n",
            "\u001b[?25l  Downloading https://files.pythonhosted.org/packages/20/37/bc4e0ddc30c07a96482abf1de7ed1ca54e59bba2026a33bca6d2ef286e5b/catboost-0.24.4-cp36-none-manylinux1_x86_64.whl (65.7MB)\n",
            "\u001b[K     |████████████████████████████████| 65.8MB 63kB/s \n",
            "\u001b[?25hRequirement already satisfied: plotly in /usr/local/lib/python3.6/dist-packages (from catboost) (4.4.1)\n",
            "Requirement already satisfied: numpy>=1.16.0 in /usr/local/lib/python3.6/dist-packages (from catboost) (1.19.5)\n",
            "Requirement already satisfied: matplotlib in /usr/local/lib/python3.6/dist-packages (from catboost) (3.2.2)\n",
            "Requirement already satisfied: scipy in /usr/local/lib/python3.6/dist-packages (from catboost) (1.4.1)\n",
            "Requirement already satisfied: graphviz in /usr/local/lib/python3.6/dist-packages (from catboost) (0.10.1)\n",
            "Requirement already satisfied: six in /usr/local/lib/python3.6/dist-packages (from catboost) (1.15.0)\n",
            "Requirement already satisfied: pandas>=0.24.0 in /usr/local/lib/python3.6/dist-packages (from catboost) (1.1.5)\n",
            "Requirement already satisfied: retrying>=1.3.3 in /usr/local/lib/python3.6/dist-packages (from plotly->catboost) (1.3.3)\n",
            "Requirement already satisfied: pyparsing!=2.0.4,!=2.1.2,!=2.1.6,>=2.0.1 in /usr/local/lib/python3.6/dist-packages (from matplotlib->catboost) (2.4.7)\n",
            "Requirement already satisfied: cycler>=0.10 in /usr/local/lib/python3.6/dist-packages (from matplotlib->catboost) (0.10.0)\n",
            "Requirement already satisfied: python-dateutil>=2.1 in /usr/local/lib/python3.6/dist-packages (from matplotlib->catboost) (2.8.1)\n",
            "Requirement already satisfied: kiwisolver>=1.0.1 in /usr/local/lib/python3.6/dist-packages (from matplotlib->catboost) (1.3.1)\n",
            "Requirement already satisfied: pytz>=2017.2 in /usr/local/lib/python3.6/dist-packages (from pandas>=0.24.0->catboost) (2018.9)\n",
            "Installing collected packages: catboost\n",
            "Successfully installed catboost-0.24.4\n"
          ],
          "name": "stdout"
        }
      ]
    },
    {
      "cell_type": "code",
      "metadata": {
        "id": "WsgiJShbhEFG"
      },
      "source": [
        "import pandas as pd\r\n",
        "import numpy as np\r\n",
        "import seaborn as sns\r\n",
        "import matplotlib.pyplot as plt\r\n",
        "import numpy as np\r\n",
        "import scipy.stats as stat\r\n",
        "%matplotlib inline\r\n",
        "\r\n",
        "### Feature Processing\r\n",
        "from sklearn.preprocessing import StandardScaler\r\n",
        "from datetime import datetime\r\n",
        "\r\n",
        "### Model Building\r\n",
        "from sklearn.linear_model import LinearRegression\r\n",
        "from sklearn.linear_model import Lasso\r\n",
        "from sklearn.linear_model import Ridge\r\n",
        "from sklearn.neighbors import KNeighborsRegressor\r\n",
        "from sklearn.tree import DecisionTreeRegressor\r\n",
        "from sklearn.svm import SVR\r\n",
        "from sklearn.ensemble import RandomForestRegressor\r\n",
        "import xgboost as xgb\r\n",
        "from xgboost import  XGBRegressor\r\n",
        "from sklearn.ensemble import GradientBoostingRegressor\r\n",
        "from lightgbm import LGBMRegressor\r\n",
        "from catboost import CatBoostRegressor\r\n",
        "\r\n",
        "### Metrics\r\n",
        "import sklearn.metrics as metrics\r\n",
        "\r\n",
        "### Hyper Paramter Optimization\r\n",
        "from sklearn.model_selection import GridSearchCV\r\n",
        "from sklearn.model_selection import KFold\r\n",
        "\r\n",
        "### Loading and Saving Model\r\n",
        "import pickle\r\n",
        "\r\n",
        "### Ensemble Technique - Combining Multiple models\r\n",
        "## We call the algorithms like this way\r\n",
        "from sklearn.naive_bayes import GaussianNB\r\n",
        "from sklearn.svm import LinearSVC\r\n",
        "\r\n",
        "## Then we use Voting Classifier for ensemble learning:\r\n",
        "from sklearn.ensemble import VotingRegressor"
      ],
      "execution_count": 35,
      "outputs": []
    },
    {
      "cell_type": "code",
      "metadata": {
        "colab": {
          "base_uri": "https://localhost:8080/",
          "height": 400
        },
        "id": "peY48uwAjRV7",
        "outputId": "3c57cd2f-bbe1-4df9-e3fe-321e23490dd5"
      },
      "source": [
        "# Loading the dataset\r\n",
        "df = pd.read_csv('ipl.csv')\r\n",
        "df.head()"
      ],
      "execution_count": 2,
      "outputs": [
        {
          "output_type": "execute_result",
          "data": {
            "text/html": [
              "<div>\n",
              "<style scoped>\n",
              "    .dataframe tbody tr th:only-of-type {\n",
              "        vertical-align: middle;\n",
              "    }\n",
              "\n",
              "    .dataframe tbody tr th {\n",
              "        vertical-align: top;\n",
              "    }\n",
              "\n",
              "    .dataframe thead th {\n",
              "        text-align: right;\n",
              "    }\n",
              "</style>\n",
              "<table border=\"1\" class=\"dataframe\">\n",
              "  <thead>\n",
              "    <tr style=\"text-align: right;\">\n",
              "      <th></th>\n",
              "      <th>mid</th>\n",
              "      <th>date</th>\n",
              "      <th>venue</th>\n",
              "      <th>bat_team</th>\n",
              "      <th>bowl_team</th>\n",
              "      <th>batsman</th>\n",
              "      <th>bowler</th>\n",
              "      <th>runs</th>\n",
              "      <th>wickets</th>\n",
              "      <th>overs</th>\n",
              "      <th>runs_last_5</th>\n",
              "      <th>wickets_last_5</th>\n",
              "      <th>striker</th>\n",
              "      <th>non-striker</th>\n",
              "      <th>total</th>\n",
              "    </tr>\n",
              "  </thead>\n",
              "  <tbody>\n",
              "    <tr>\n",
              "      <th>0</th>\n",
              "      <td>1</td>\n",
              "      <td>2008-04-18</td>\n",
              "      <td>M Chinnaswamy Stadium</td>\n",
              "      <td>Kolkata Knight Riders</td>\n",
              "      <td>Royal Challengers Bangalore</td>\n",
              "      <td>SC Ganguly</td>\n",
              "      <td>P Kumar</td>\n",
              "      <td>1</td>\n",
              "      <td>0</td>\n",
              "      <td>0.1</td>\n",
              "      <td>1</td>\n",
              "      <td>0</td>\n",
              "      <td>0</td>\n",
              "      <td>0</td>\n",
              "      <td>222</td>\n",
              "    </tr>\n",
              "    <tr>\n",
              "      <th>1</th>\n",
              "      <td>1</td>\n",
              "      <td>2008-04-18</td>\n",
              "      <td>M Chinnaswamy Stadium</td>\n",
              "      <td>Kolkata Knight Riders</td>\n",
              "      <td>Royal Challengers Bangalore</td>\n",
              "      <td>BB McCullum</td>\n",
              "      <td>P Kumar</td>\n",
              "      <td>1</td>\n",
              "      <td>0</td>\n",
              "      <td>0.2</td>\n",
              "      <td>1</td>\n",
              "      <td>0</td>\n",
              "      <td>0</td>\n",
              "      <td>0</td>\n",
              "      <td>222</td>\n",
              "    </tr>\n",
              "    <tr>\n",
              "      <th>2</th>\n",
              "      <td>1</td>\n",
              "      <td>2008-04-18</td>\n",
              "      <td>M Chinnaswamy Stadium</td>\n",
              "      <td>Kolkata Knight Riders</td>\n",
              "      <td>Royal Challengers Bangalore</td>\n",
              "      <td>BB McCullum</td>\n",
              "      <td>P Kumar</td>\n",
              "      <td>2</td>\n",
              "      <td>0</td>\n",
              "      <td>0.2</td>\n",
              "      <td>2</td>\n",
              "      <td>0</td>\n",
              "      <td>0</td>\n",
              "      <td>0</td>\n",
              "      <td>222</td>\n",
              "    </tr>\n",
              "    <tr>\n",
              "      <th>3</th>\n",
              "      <td>1</td>\n",
              "      <td>2008-04-18</td>\n",
              "      <td>M Chinnaswamy Stadium</td>\n",
              "      <td>Kolkata Knight Riders</td>\n",
              "      <td>Royal Challengers Bangalore</td>\n",
              "      <td>BB McCullum</td>\n",
              "      <td>P Kumar</td>\n",
              "      <td>2</td>\n",
              "      <td>0</td>\n",
              "      <td>0.3</td>\n",
              "      <td>2</td>\n",
              "      <td>0</td>\n",
              "      <td>0</td>\n",
              "      <td>0</td>\n",
              "      <td>222</td>\n",
              "    </tr>\n",
              "    <tr>\n",
              "      <th>4</th>\n",
              "      <td>1</td>\n",
              "      <td>2008-04-18</td>\n",
              "      <td>M Chinnaswamy Stadium</td>\n",
              "      <td>Kolkata Knight Riders</td>\n",
              "      <td>Royal Challengers Bangalore</td>\n",
              "      <td>BB McCullum</td>\n",
              "      <td>P Kumar</td>\n",
              "      <td>2</td>\n",
              "      <td>0</td>\n",
              "      <td>0.4</td>\n",
              "      <td>2</td>\n",
              "      <td>0</td>\n",
              "      <td>0</td>\n",
              "      <td>0</td>\n",
              "      <td>222</td>\n",
              "    </tr>\n",
              "  </tbody>\n",
              "</table>\n",
              "</div>"
            ],
            "text/plain": [
              "   mid        date                  venue  ... striker non-striker total\n",
              "0    1  2008-04-18  M Chinnaswamy Stadium  ...       0           0   222\n",
              "1    1  2008-04-18  M Chinnaswamy Stadium  ...       0           0   222\n",
              "2    1  2008-04-18  M Chinnaswamy Stadium  ...       0           0   222\n",
              "3    1  2008-04-18  M Chinnaswamy Stadium  ...       0           0   222\n",
              "4    1  2008-04-18  M Chinnaswamy Stadium  ...       0           0   222\n",
              "\n",
              "[5 rows x 15 columns]"
            ]
          },
          "metadata": {
            "tags": []
          },
          "execution_count": 2
        }
      ]
    },
    {
      "cell_type": "code",
      "metadata": {
        "colab": {
          "base_uri": "https://localhost:8080/"
        },
        "id": "XEU7sldyMptT",
        "outputId": "c90fa40b-adc9-451f-8d05-37f4162d912f"
      },
      "source": [
        "df.shape"
      ],
      "execution_count": 3,
      "outputs": [
        {
          "output_type": "execute_result",
          "data": {
            "text/plain": [
              "(76014, 15)"
            ]
          },
          "metadata": {
            "tags": []
          },
          "execution_count": 3
        }
      ]
    },
    {
      "cell_type": "markdown",
      "metadata": {
        "id": "wDrj2-c7j02t"
      },
      "source": [
        "### Data Cleaning --- Removing unwanted columns"
      ]
    },
    {
      "cell_type": "code",
      "metadata": {
        "id": "W3RYuMwkjU8c"
      },
      "source": [
        "columns_to_remove = ['mid', 'venue', 'batsman', 'bowler', 'striker', 'non-striker']\r\n",
        "df.drop(labels=columns_to_remove, axis=1, inplace=True)"
      ],
      "execution_count": 4,
      "outputs": []
    },
    {
      "cell_type": "code",
      "metadata": {
        "colab": {
          "base_uri": "https://localhost:8080/",
          "height": 195
        },
        "id": "T9TDjriXjsKl",
        "outputId": "3c81dddb-ec98-4de7-f246-6c21060524cd"
      },
      "source": [
        "df.head()"
      ],
      "execution_count": 5,
      "outputs": [
        {
          "output_type": "execute_result",
          "data": {
            "text/html": [
              "<div>\n",
              "<style scoped>\n",
              "    .dataframe tbody tr th:only-of-type {\n",
              "        vertical-align: middle;\n",
              "    }\n",
              "\n",
              "    .dataframe tbody tr th {\n",
              "        vertical-align: top;\n",
              "    }\n",
              "\n",
              "    .dataframe thead th {\n",
              "        text-align: right;\n",
              "    }\n",
              "</style>\n",
              "<table border=\"1\" class=\"dataframe\">\n",
              "  <thead>\n",
              "    <tr style=\"text-align: right;\">\n",
              "      <th></th>\n",
              "      <th>date</th>\n",
              "      <th>bat_team</th>\n",
              "      <th>bowl_team</th>\n",
              "      <th>runs</th>\n",
              "      <th>wickets</th>\n",
              "      <th>overs</th>\n",
              "      <th>runs_last_5</th>\n",
              "      <th>wickets_last_5</th>\n",
              "      <th>total</th>\n",
              "    </tr>\n",
              "  </thead>\n",
              "  <tbody>\n",
              "    <tr>\n",
              "      <th>0</th>\n",
              "      <td>2008-04-18</td>\n",
              "      <td>Kolkata Knight Riders</td>\n",
              "      <td>Royal Challengers Bangalore</td>\n",
              "      <td>1</td>\n",
              "      <td>0</td>\n",
              "      <td>0.1</td>\n",
              "      <td>1</td>\n",
              "      <td>0</td>\n",
              "      <td>222</td>\n",
              "    </tr>\n",
              "    <tr>\n",
              "      <th>1</th>\n",
              "      <td>2008-04-18</td>\n",
              "      <td>Kolkata Knight Riders</td>\n",
              "      <td>Royal Challengers Bangalore</td>\n",
              "      <td>1</td>\n",
              "      <td>0</td>\n",
              "      <td>0.2</td>\n",
              "      <td>1</td>\n",
              "      <td>0</td>\n",
              "      <td>222</td>\n",
              "    </tr>\n",
              "    <tr>\n",
              "      <th>2</th>\n",
              "      <td>2008-04-18</td>\n",
              "      <td>Kolkata Knight Riders</td>\n",
              "      <td>Royal Challengers Bangalore</td>\n",
              "      <td>2</td>\n",
              "      <td>0</td>\n",
              "      <td>0.2</td>\n",
              "      <td>2</td>\n",
              "      <td>0</td>\n",
              "      <td>222</td>\n",
              "    </tr>\n",
              "    <tr>\n",
              "      <th>3</th>\n",
              "      <td>2008-04-18</td>\n",
              "      <td>Kolkata Knight Riders</td>\n",
              "      <td>Royal Challengers Bangalore</td>\n",
              "      <td>2</td>\n",
              "      <td>0</td>\n",
              "      <td>0.3</td>\n",
              "      <td>2</td>\n",
              "      <td>0</td>\n",
              "      <td>222</td>\n",
              "    </tr>\n",
              "    <tr>\n",
              "      <th>4</th>\n",
              "      <td>2008-04-18</td>\n",
              "      <td>Kolkata Knight Riders</td>\n",
              "      <td>Royal Challengers Bangalore</td>\n",
              "      <td>2</td>\n",
              "      <td>0</td>\n",
              "      <td>0.4</td>\n",
              "      <td>2</td>\n",
              "      <td>0</td>\n",
              "      <td>222</td>\n",
              "    </tr>\n",
              "  </tbody>\n",
              "</table>\n",
              "</div>"
            ],
            "text/plain": [
              "         date               bat_team  ... wickets_last_5  total\n",
              "0  2008-04-18  Kolkata Knight Riders  ...              0    222\n",
              "1  2008-04-18  Kolkata Knight Riders  ...              0    222\n",
              "2  2008-04-18  Kolkata Knight Riders  ...              0    222\n",
              "3  2008-04-18  Kolkata Knight Riders  ...              0    222\n",
              "4  2008-04-18  Kolkata Knight Riders  ...              0    222\n",
              "\n",
              "[5 rows x 9 columns]"
            ]
          },
          "metadata": {
            "tags": []
          },
          "execution_count": 5
        }
      ]
    },
    {
      "cell_type": "code",
      "metadata": {
        "colab": {
          "base_uri": "https://localhost:8080/"
        },
        "id": "uH4jLRhqklSD",
        "outputId": "eb120b51-c093-4c86-a72a-46791b8766d5"
      },
      "source": [
        "df['bat_team'].unique()"
      ],
      "execution_count": 6,
      "outputs": [
        {
          "output_type": "execute_result",
          "data": {
            "text/plain": [
              "array(['Kolkata Knight Riders', 'Chennai Super Kings', 'Rajasthan Royals',\n",
              "       'Mumbai Indians', 'Deccan Chargers', 'Kings XI Punjab',\n",
              "       'Royal Challengers Bangalore', 'Delhi Daredevils',\n",
              "       'Kochi Tuskers Kerala', 'Pune Warriors', 'Sunrisers Hyderabad',\n",
              "       'Rising Pune Supergiants', 'Gujarat Lions',\n",
              "       'Rising Pune Supergiant'], dtype=object)"
            ]
          },
          "metadata": {
            "tags": []
          },
          "execution_count": 6
        }
      ]
    },
    {
      "cell_type": "code",
      "metadata": {
        "id": "wf5MV1z4k5_0"
      },
      "source": [
        "consistent_teams = ['Kolkata Knight Riders', 'Chennai Super Kings', 'Rajasthan Royals',\r\n",
        "                    'Mumbai Indians', 'Kings XI Punjab', 'Royal Challengers Bangalore',\r\n",
        "                    'Delhi Daredevils', 'Sunrisers Hyderabad']"
      ],
      "execution_count": 7,
      "outputs": []
    },
    {
      "cell_type": "code",
      "metadata": {
        "id": "AisUqhwik8vo"
      },
      "source": [
        "df = df[(df['bat_team'].isin(consistent_teams)) & (df['bowl_team'].isin(consistent_teams))]"
      ],
      "execution_count": 8,
      "outputs": []
    },
    {
      "cell_type": "code",
      "metadata": {
        "id": "3tql_lNqLpOT"
      },
      "source": [
        "# Removing the first 5 overs data in every match\r\n",
        "df = df[df['overs']>=5.0]"
      ],
      "execution_count": 9,
      "outputs": []
    },
    {
      "cell_type": "code",
      "metadata": {
        "colab": {
          "base_uri": "https://localhost:8080/",
          "height": 195
        },
        "id": "V-9QFNJ4Lrd8",
        "outputId": "57fa0d12-9fd9-47e8-e504-9c4bc0e6155e"
      },
      "source": [
        "df.head()"
      ],
      "execution_count": 10,
      "outputs": [
        {
          "output_type": "execute_result",
          "data": {
            "text/html": [
              "<div>\n",
              "<style scoped>\n",
              "    .dataframe tbody tr th:only-of-type {\n",
              "        vertical-align: middle;\n",
              "    }\n",
              "\n",
              "    .dataframe tbody tr th {\n",
              "        vertical-align: top;\n",
              "    }\n",
              "\n",
              "    .dataframe thead th {\n",
              "        text-align: right;\n",
              "    }\n",
              "</style>\n",
              "<table border=\"1\" class=\"dataframe\">\n",
              "  <thead>\n",
              "    <tr style=\"text-align: right;\">\n",
              "      <th></th>\n",
              "      <th>date</th>\n",
              "      <th>bat_team</th>\n",
              "      <th>bowl_team</th>\n",
              "      <th>runs</th>\n",
              "      <th>wickets</th>\n",
              "      <th>overs</th>\n",
              "      <th>runs_last_5</th>\n",
              "      <th>wickets_last_5</th>\n",
              "      <th>total</th>\n",
              "    </tr>\n",
              "  </thead>\n",
              "  <tbody>\n",
              "    <tr>\n",
              "      <th>32</th>\n",
              "      <td>2008-04-18</td>\n",
              "      <td>Kolkata Knight Riders</td>\n",
              "      <td>Royal Challengers Bangalore</td>\n",
              "      <td>61</td>\n",
              "      <td>0</td>\n",
              "      <td>5.1</td>\n",
              "      <td>59</td>\n",
              "      <td>0</td>\n",
              "      <td>222</td>\n",
              "    </tr>\n",
              "    <tr>\n",
              "      <th>33</th>\n",
              "      <td>2008-04-18</td>\n",
              "      <td>Kolkata Knight Riders</td>\n",
              "      <td>Royal Challengers Bangalore</td>\n",
              "      <td>61</td>\n",
              "      <td>1</td>\n",
              "      <td>5.2</td>\n",
              "      <td>59</td>\n",
              "      <td>1</td>\n",
              "      <td>222</td>\n",
              "    </tr>\n",
              "    <tr>\n",
              "      <th>34</th>\n",
              "      <td>2008-04-18</td>\n",
              "      <td>Kolkata Knight Riders</td>\n",
              "      <td>Royal Challengers Bangalore</td>\n",
              "      <td>61</td>\n",
              "      <td>1</td>\n",
              "      <td>5.3</td>\n",
              "      <td>59</td>\n",
              "      <td>1</td>\n",
              "      <td>222</td>\n",
              "    </tr>\n",
              "    <tr>\n",
              "      <th>35</th>\n",
              "      <td>2008-04-18</td>\n",
              "      <td>Kolkata Knight Riders</td>\n",
              "      <td>Royal Challengers Bangalore</td>\n",
              "      <td>61</td>\n",
              "      <td>1</td>\n",
              "      <td>5.4</td>\n",
              "      <td>59</td>\n",
              "      <td>1</td>\n",
              "      <td>222</td>\n",
              "    </tr>\n",
              "    <tr>\n",
              "      <th>36</th>\n",
              "      <td>2008-04-18</td>\n",
              "      <td>Kolkata Knight Riders</td>\n",
              "      <td>Royal Challengers Bangalore</td>\n",
              "      <td>61</td>\n",
              "      <td>1</td>\n",
              "      <td>5.5</td>\n",
              "      <td>58</td>\n",
              "      <td>1</td>\n",
              "      <td>222</td>\n",
              "    </tr>\n",
              "  </tbody>\n",
              "</table>\n",
              "</div>"
            ],
            "text/plain": [
              "          date               bat_team  ... wickets_last_5  total\n",
              "32  2008-04-18  Kolkata Knight Riders  ...              0    222\n",
              "33  2008-04-18  Kolkata Knight Riders  ...              1    222\n",
              "34  2008-04-18  Kolkata Knight Riders  ...              1    222\n",
              "35  2008-04-18  Kolkata Knight Riders  ...              1    222\n",
              "36  2008-04-18  Kolkata Knight Riders  ...              1    222\n",
              "\n",
              "[5 rows x 9 columns]"
            ]
          },
          "metadata": {
            "tags": []
          },
          "execution_count": 10
        }
      ]
    },
    {
      "cell_type": "code",
      "metadata": {
        "colab": {
          "base_uri": "https://localhost:8080/"
        },
        "id": "rQ6la0H0Lt3k",
        "outputId": "d18c78e9-9be7-45af-ae15-c89a9bbe9cc4"
      },
      "source": [
        "print(df['bat_team'].unique())\r\n",
        "print(df['bowl_team'].unique())"
      ],
      "execution_count": 11,
      "outputs": [
        {
          "output_type": "stream",
          "text": [
            "['Kolkata Knight Riders' 'Chennai Super Kings' 'Rajasthan Royals'\n",
            " 'Mumbai Indians' 'Kings XI Punjab' 'Royal Challengers Bangalore'\n",
            " 'Delhi Daredevils' 'Sunrisers Hyderabad']\n",
            "['Royal Challengers Bangalore' 'Kings XI Punjab' 'Delhi Daredevils'\n",
            " 'Rajasthan Royals' 'Mumbai Indians' 'Chennai Super Kings'\n",
            " 'Kolkata Knight Riders' 'Sunrisers Hyderabad']\n"
          ],
          "name": "stdout"
        }
      ]
    },
    {
      "cell_type": "code",
      "metadata": {
        "colab": {
          "base_uri": "https://localhost:8080/"
        },
        "id": "ONQvc1pvLx5B",
        "outputId": "1b84b356-c56d-426c-cbf7-cc37c29602e4"
      },
      "source": [
        "df.shape"
      ],
      "execution_count": 12,
      "outputs": [
        {
          "output_type": "execute_result",
          "data": {
            "text/plain": [
              "(40108, 9)"
            ]
          },
          "metadata": {
            "tags": []
          },
          "execution_count": 12
        }
      ]
    },
    {
      "cell_type": "code",
      "metadata": {
        "colab": {
          "base_uri": "https://localhost:8080/"
        },
        "id": "Az9FJxzwM5ak",
        "outputId": "2fb4b896-57b0-4a2a-9068-7bd86f6a0d8c"
      },
      "source": [
        "df.dtypes"
      ],
      "execution_count": 13,
      "outputs": [
        {
          "output_type": "execute_result",
          "data": {
            "text/plain": [
              "date               object\n",
              "bat_team           object\n",
              "bowl_team          object\n",
              "runs                int64\n",
              "wickets             int64\n",
              "overs             float64\n",
              "runs_last_5         int64\n",
              "wickets_last_5      int64\n",
              "total               int64\n",
              "dtype: object"
            ]
          },
          "metadata": {
            "tags": []
          },
          "execution_count": 13
        }
      ]
    },
    {
      "cell_type": "code",
      "metadata": {
        "colab": {
          "base_uri": "https://localhost:8080/"
        },
        "id": "b5mPeS6oM_I6",
        "outputId": "1733419c-ea90-455d-a14b-4ab94262c07c"
      },
      "source": [
        "# Converting the column 'date' from string into datetime object\r\n",
        "df['date'] = df['date'].apply(lambda x:datetime.strptime(x,'%Y-%m-%d'))\r\n",
        "df.dtypes"
      ],
      "execution_count": 18,
      "outputs": [
        {
          "output_type": "execute_result",
          "data": {
            "text/plain": [
              "date              datetime64[ns]\n",
              "bat_team                  object\n",
              "bowl_team                 object\n",
              "runs                       int64\n",
              "wickets                    int64\n",
              "overs                    float64\n",
              "runs_last_5                int64\n",
              "wickets_last_5             int64\n",
              "total                      int64\n",
              "dtype: object"
            ]
          },
          "metadata": {
            "tags": []
          },
          "execution_count": 18
        }
      ]
    },
    {
      "cell_type": "markdown",
      "metadata": {
        "id": "a2KJuK07NuB5"
      },
      "source": [
        "### Data Preprocessing "
      ]
    },
    {
      "cell_type": "code",
      "metadata": {
        "colab": {
          "base_uri": "https://localhost:8080/",
          "height": 333
        },
        "id": "eYmqhFOFNl9Q",
        "outputId": "17092a74-cc34-4d4d-8baf-39278a29f418"
      },
      "source": [
        "# Converting categorical features using OneHotEncoding method\r\n",
        "encoded_df = pd.get_dummies(data=df, columns=['bat_team', 'bowl_team'])\r\n",
        "encoded_df.head()"
      ],
      "execution_count": 19,
      "outputs": [
        {
          "output_type": "execute_result",
          "data": {
            "text/html": [
              "<div>\n",
              "<style scoped>\n",
              "    .dataframe tbody tr th:only-of-type {\n",
              "        vertical-align: middle;\n",
              "    }\n",
              "\n",
              "    .dataframe tbody tr th {\n",
              "        vertical-align: top;\n",
              "    }\n",
              "\n",
              "    .dataframe thead th {\n",
              "        text-align: right;\n",
              "    }\n",
              "</style>\n",
              "<table border=\"1\" class=\"dataframe\">\n",
              "  <thead>\n",
              "    <tr style=\"text-align: right;\">\n",
              "      <th></th>\n",
              "      <th>date</th>\n",
              "      <th>runs</th>\n",
              "      <th>wickets</th>\n",
              "      <th>overs</th>\n",
              "      <th>runs_last_5</th>\n",
              "      <th>wickets_last_5</th>\n",
              "      <th>total</th>\n",
              "      <th>bat_team_Chennai Super Kings</th>\n",
              "      <th>bat_team_Delhi Daredevils</th>\n",
              "      <th>bat_team_Kings XI Punjab</th>\n",
              "      <th>bat_team_Kolkata Knight Riders</th>\n",
              "      <th>bat_team_Mumbai Indians</th>\n",
              "      <th>bat_team_Rajasthan Royals</th>\n",
              "      <th>bat_team_Royal Challengers Bangalore</th>\n",
              "      <th>bat_team_Sunrisers Hyderabad</th>\n",
              "      <th>bowl_team_Chennai Super Kings</th>\n",
              "      <th>bowl_team_Delhi Daredevils</th>\n",
              "      <th>bowl_team_Kings XI Punjab</th>\n",
              "      <th>bowl_team_Kolkata Knight Riders</th>\n",
              "      <th>bowl_team_Mumbai Indians</th>\n",
              "      <th>bowl_team_Rajasthan Royals</th>\n",
              "      <th>bowl_team_Royal Challengers Bangalore</th>\n",
              "      <th>bowl_team_Sunrisers Hyderabad</th>\n",
              "    </tr>\n",
              "  </thead>\n",
              "  <tbody>\n",
              "    <tr>\n",
              "      <th>32</th>\n",
              "      <td>2008-04-18</td>\n",
              "      <td>61</td>\n",
              "      <td>0</td>\n",
              "      <td>5.1</td>\n",
              "      <td>59</td>\n",
              "      <td>0</td>\n",
              "      <td>222</td>\n",
              "      <td>0</td>\n",
              "      <td>0</td>\n",
              "      <td>0</td>\n",
              "      <td>1</td>\n",
              "      <td>0</td>\n",
              "      <td>0</td>\n",
              "      <td>0</td>\n",
              "      <td>0</td>\n",
              "      <td>0</td>\n",
              "      <td>0</td>\n",
              "      <td>0</td>\n",
              "      <td>0</td>\n",
              "      <td>0</td>\n",
              "      <td>0</td>\n",
              "      <td>1</td>\n",
              "      <td>0</td>\n",
              "    </tr>\n",
              "    <tr>\n",
              "      <th>33</th>\n",
              "      <td>2008-04-18</td>\n",
              "      <td>61</td>\n",
              "      <td>1</td>\n",
              "      <td>5.2</td>\n",
              "      <td>59</td>\n",
              "      <td>1</td>\n",
              "      <td>222</td>\n",
              "      <td>0</td>\n",
              "      <td>0</td>\n",
              "      <td>0</td>\n",
              "      <td>1</td>\n",
              "      <td>0</td>\n",
              "      <td>0</td>\n",
              "      <td>0</td>\n",
              "      <td>0</td>\n",
              "      <td>0</td>\n",
              "      <td>0</td>\n",
              "      <td>0</td>\n",
              "      <td>0</td>\n",
              "      <td>0</td>\n",
              "      <td>0</td>\n",
              "      <td>1</td>\n",
              "      <td>0</td>\n",
              "    </tr>\n",
              "    <tr>\n",
              "      <th>34</th>\n",
              "      <td>2008-04-18</td>\n",
              "      <td>61</td>\n",
              "      <td>1</td>\n",
              "      <td>5.3</td>\n",
              "      <td>59</td>\n",
              "      <td>1</td>\n",
              "      <td>222</td>\n",
              "      <td>0</td>\n",
              "      <td>0</td>\n",
              "      <td>0</td>\n",
              "      <td>1</td>\n",
              "      <td>0</td>\n",
              "      <td>0</td>\n",
              "      <td>0</td>\n",
              "      <td>0</td>\n",
              "      <td>0</td>\n",
              "      <td>0</td>\n",
              "      <td>0</td>\n",
              "      <td>0</td>\n",
              "      <td>0</td>\n",
              "      <td>0</td>\n",
              "      <td>1</td>\n",
              "      <td>0</td>\n",
              "    </tr>\n",
              "    <tr>\n",
              "      <th>35</th>\n",
              "      <td>2008-04-18</td>\n",
              "      <td>61</td>\n",
              "      <td>1</td>\n",
              "      <td>5.4</td>\n",
              "      <td>59</td>\n",
              "      <td>1</td>\n",
              "      <td>222</td>\n",
              "      <td>0</td>\n",
              "      <td>0</td>\n",
              "      <td>0</td>\n",
              "      <td>1</td>\n",
              "      <td>0</td>\n",
              "      <td>0</td>\n",
              "      <td>0</td>\n",
              "      <td>0</td>\n",
              "      <td>0</td>\n",
              "      <td>0</td>\n",
              "      <td>0</td>\n",
              "      <td>0</td>\n",
              "      <td>0</td>\n",
              "      <td>0</td>\n",
              "      <td>1</td>\n",
              "      <td>0</td>\n",
              "    </tr>\n",
              "    <tr>\n",
              "      <th>36</th>\n",
              "      <td>2008-04-18</td>\n",
              "      <td>61</td>\n",
              "      <td>1</td>\n",
              "      <td>5.5</td>\n",
              "      <td>58</td>\n",
              "      <td>1</td>\n",
              "      <td>222</td>\n",
              "      <td>0</td>\n",
              "      <td>0</td>\n",
              "      <td>0</td>\n",
              "      <td>1</td>\n",
              "      <td>0</td>\n",
              "      <td>0</td>\n",
              "      <td>0</td>\n",
              "      <td>0</td>\n",
              "      <td>0</td>\n",
              "      <td>0</td>\n",
              "      <td>0</td>\n",
              "      <td>0</td>\n",
              "      <td>0</td>\n",
              "      <td>0</td>\n",
              "      <td>1</td>\n",
              "      <td>0</td>\n",
              "    </tr>\n",
              "  </tbody>\n",
              "</table>\n",
              "</div>"
            ],
            "text/plain": [
              "         date  ...  bowl_team_Sunrisers Hyderabad\n",
              "32 2008-04-18  ...                              0\n",
              "33 2008-04-18  ...                              0\n",
              "34 2008-04-18  ...                              0\n",
              "35 2008-04-18  ...                              0\n",
              "36 2008-04-18  ...                              0\n",
              "\n",
              "[5 rows x 23 columns]"
            ]
          },
          "metadata": {
            "tags": []
          },
          "execution_count": 19
        }
      ]
    },
    {
      "cell_type": "code",
      "metadata": {
        "colab": {
          "base_uri": "https://localhost:8080/"
        },
        "id": "CLVGVAdnN6VO",
        "outputId": "3239608f-9fd0-4fa6-e16d-440084aee904"
      },
      "source": [
        "encoded_df.shape"
      ],
      "execution_count": 20,
      "outputs": [
        {
          "output_type": "execute_result",
          "data": {
            "text/plain": [
              "(40108, 23)"
            ]
          },
          "metadata": {
            "tags": []
          },
          "execution_count": 20
        }
      ]
    },
    {
      "cell_type": "code",
      "metadata": {
        "colab": {
          "base_uri": "https://localhost:8080/"
        },
        "id": "VZcE62C6N-Uh",
        "outputId": "706ad1ec-962b-4a66-fce7-d81c40bff803"
      },
      "source": [
        "encoded_df.columns"
      ],
      "execution_count": 21,
      "outputs": [
        {
          "output_type": "execute_result",
          "data": {
            "text/plain": [
              "Index(['date', 'runs', 'wickets', 'overs', 'runs_last_5', 'wickets_last_5',\n",
              "       'total', 'bat_team_Chennai Super Kings', 'bat_team_Delhi Daredevils',\n",
              "       'bat_team_Kings XI Punjab', 'bat_team_Kolkata Knight Riders',\n",
              "       'bat_team_Mumbai Indians', 'bat_team_Rajasthan Royals',\n",
              "       'bat_team_Royal Challengers Bangalore', 'bat_team_Sunrisers Hyderabad',\n",
              "       'bowl_team_Chennai Super Kings', 'bowl_team_Delhi Daredevils',\n",
              "       'bowl_team_Kings XI Punjab', 'bowl_team_Kolkata Knight Riders',\n",
              "       'bowl_team_Mumbai Indians', 'bowl_team_Rajasthan Royals',\n",
              "       'bowl_team_Royal Challengers Bangalore',\n",
              "       'bowl_team_Sunrisers Hyderabad'],\n",
              "      dtype='object')"
            ]
          },
          "metadata": {
            "tags": []
          },
          "execution_count": 21
        }
      ]
    },
    {
      "cell_type": "markdown",
      "metadata": {
        "id": "MguaDMAaOVfm"
      },
      "source": [
        "### Rearranging columns"
      ]
    },
    {
      "cell_type": "code",
      "metadata": {
        "id": "ocCpESAfOHhO"
      },
      "source": [
        "encoded_df = encoded_df[['date', 'bat_team_Chennai Super Kings', 'bat_team_Delhi Daredevils', 'bat_team_Kings XI Punjab',\r\n",
        "              'bat_team_Kolkata Knight Riders', 'bat_team_Mumbai Indians', 'bat_team_Rajasthan Royals',\r\n",
        "              'bat_team_Royal Challengers Bangalore', 'bat_team_Sunrisers Hyderabad',\r\n",
        "              'bowl_team_Chennai Super Kings', 'bowl_team_Delhi Daredevils', 'bowl_team_Kings XI Punjab',\r\n",
        "              'bowl_team_Kolkata Knight Riders', 'bowl_team_Mumbai Indians', 'bowl_team_Rajasthan Royals',\r\n",
        "              'bowl_team_Royal Challengers Bangalore', 'bowl_team_Sunrisers Hyderabad',\r\n",
        "              'overs', 'runs', 'wickets', 'runs_last_5', 'wickets_last_5', 'total']]"
      ],
      "execution_count": 22,
      "outputs": []
    },
    {
      "cell_type": "code",
      "metadata": {
        "colab": {
          "base_uri": "https://localhost:8080/",
          "height": 333
        },
        "id": "E2d3EaztOZ49",
        "outputId": "4b30db03-e17f-4a9d-b634-3e90516f5e9b"
      },
      "source": [
        "encoded_df.head()"
      ],
      "execution_count": 23,
      "outputs": [
        {
          "output_type": "execute_result",
          "data": {
            "text/html": [
              "<div>\n",
              "<style scoped>\n",
              "    .dataframe tbody tr th:only-of-type {\n",
              "        vertical-align: middle;\n",
              "    }\n",
              "\n",
              "    .dataframe tbody tr th {\n",
              "        vertical-align: top;\n",
              "    }\n",
              "\n",
              "    .dataframe thead th {\n",
              "        text-align: right;\n",
              "    }\n",
              "</style>\n",
              "<table border=\"1\" class=\"dataframe\">\n",
              "  <thead>\n",
              "    <tr style=\"text-align: right;\">\n",
              "      <th></th>\n",
              "      <th>date</th>\n",
              "      <th>bat_team_Chennai Super Kings</th>\n",
              "      <th>bat_team_Delhi Daredevils</th>\n",
              "      <th>bat_team_Kings XI Punjab</th>\n",
              "      <th>bat_team_Kolkata Knight Riders</th>\n",
              "      <th>bat_team_Mumbai Indians</th>\n",
              "      <th>bat_team_Rajasthan Royals</th>\n",
              "      <th>bat_team_Royal Challengers Bangalore</th>\n",
              "      <th>bat_team_Sunrisers Hyderabad</th>\n",
              "      <th>bowl_team_Chennai Super Kings</th>\n",
              "      <th>bowl_team_Delhi Daredevils</th>\n",
              "      <th>bowl_team_Kings XI Punjab</th>\n",
              "      <th>bowl_team_Kolkata Knight Riders</th>\n",
              "      <th>bowl_team_Mumbai Indians</th>\n",
              "      <th>bowl_team_Rajasthan Royals</th>\n",
              "      <th>bowl_team_Royal Challengers Bangalore</th>\n",
              "      <th>bowl_team_Sunrisers Hyderabad</th>\n",
              "      <th>overs</th>\n",
              "      <th>runs</th>\n",
              "      <th>wickets</th>\n",
              "      <th>runs_last_5</th>\n",
              "      <th>wickets_last_5</th>\n",
              "      <th>total</th>\n",
              "    </tr>\n",
              "  </thead>\n",
              "  <tbody>\n",
              "    <tr>\n",
              "      <th>32</th>\n",
              "      <td>2008-04-18</td>\n",
              "      <td>0</td>\n",
              "      <td>0</td>\n",
              "      <td>0</td>\n",
              "      <td>1</td>\n",
              "      <td>0</td>\n",
              "      <td>0</td>\n",
              "      <td>0</td>\n",
              "      <td>0</td>\n",
              "      <td>0</td>\n",
              "      <td>0</td>\n",
              "      <td>0</td>\n",
              "      <td>0</td>\n",
              "      <td>0</td>\n",
              "      <td>0</td>\n",
              "      <td>1</td>\n",
              "      <td>0</td>\n",
              "      <td>5.1</td>\n",
              "      <td>61</td>\n",
              "      <td>0</td>\n",
              "      <td>59</td>\n",
              "      <td>0</td>\n",
              "      <td>222</td>\n",
              "    </tr>\n",
              "    <tr>\n",
              "      <th>33</th>\n",
              "      <td>2008-04-18</td>\n",
              "      <td>0</td>\n",
              "      <td>0</td>\n",
              "      <td>0</td>\n",
              "      <td>1</td>\n",
              "      <td>0</td>\n",
              "      <td>0</td>\n",
              "      <td>0</td>\n",
              "      <td>0</td>\n",
              "      <td>0</td>\n",
              "      <td>0</td>\n",
              "      <td>0</td>\n",
              "      <td>0</td>\n",
              "      <td>0</td>\n",
              "      <td>0</td>\n",
              "      <td>1</td>\n",
              "      <td>0</td>\n",
              "      <td>5.2</td>\n",
              "      <td>61</td>\n",
              "      <td>1</td>\n",
              "      <td>59</td>\n",
              "      <td>1</td>\n",
              "      <td>222</td>\n",
              "    </tr>\n",
              "    <tr>\n",
              "      <th>34</th>\n",
              "      <td>2008-04-18</td>\n",
              "      <td>0</td>\n",
              "      <td>0</td>\n",
              "      <td>0</td>\n",
              "      <td>1</td>\n",
              "      <td>0</td>\n",
              "      <td>0</td>\n",
              "      <td>0</td>\n",
              "      <td>0</td>\n",
              "      <td>0</td>\n",
              "      <td>0</td>\n",
              "      <td>0</td>\n",
              "      <td>0</td>\n",
              "      <td>0</td>\n",
              "      <td>0</td>\n",
              "      <td>1</td>\n",
              "      <td>0</td>\n",
              "      <td>5.3</td>\n",
              "      <td>61</td>\n",
              "      <td>1</td>\n",
              "      <td>59</td>\n",
              "      <td>1</td>\n",
              "      <td>222</td>\n",
              "    </tr>\n",
              "    <tr>\n",
              "      <th>35</th>\n",
              "      <td>2008-04-18</td>\n",
              "      <td>0</td>\n",
              "      <td>0</td>\n",
              "      <td>0</td>\n",
              "      <td>1</td>\n",
              "      <td>0</td>\n",
              "      <td>0</td>\n",
              "      <td>0</td>\n",
              "      <td>0</td>\n",
              "      <td>0</td>\n",
              "      <td>0</td>\n",
              "      <td>0</td>\n",
              "      <td>0</td>\n",
              "      <td>0</td>\n",
              "      <td>0</td>\n",
              "      <td>1</td>\n",
              "      <td>0</td>\n",
              "      <td>5.4</td>\n",
              "      <td>61</td>\n",
              "      <td>1</td>\n",
              "      <td>59</td>\n",
              "      <td>1</td>\n",
              "      <td>222</td>\n",
              "    </tr>\n",
              "    <tr>\n",
              "      <th>36</th>\n",
              "      <td>2008-04-18</td>\n",
              "      <td>0</td>\n",
              "      <td>0</td>\n",
              "      <td>0</td>\n",
              "      <td>1</td>\n",
              "      <td>0</td>\n",
              "      <td>0</td>\n",
              "      <td>0</td>\n",
              "      <td>0</td>\n",
              "      <td>0</td>\n",
              "      <td>0</td>\n",
              "      <td>0</td>\n",
              "      <td>0</td>\n",
              "      <td>0</td>\n",
              "      <td>0</td>\n",
              "      <td>1</td>\n",
              "      <td>0</td>\n",
              "      <td>5.5</td>\n",
              "      <td>61</td>\n",
              "      <td>1</td>\n",
              "      <td>58</td>\n",
              "      <td>1</td>\n",
              "      <td>222</td>\n",
              "    </tr>\n",
              "  </tbody>\n",
              "</table>\n",
              "</div>"
            ],
            "text/plain": [
              "         date  bat_team_Chennai Super Kings  ...  wickets_last_5  total\n",
              "32 2008-04-18                             0  ...               0    222\n",
              "33 2008-04-18                             0  ...               1    222\n",
              "34 2008-04-18                             0  ...               1    222\n",
              "35 2008-04-18                             0  ...               1    222\n",
              "36 2008-04-18                             0  ...               1    222\n",
              "\n",
              "[5 rows x 23 columns]"
            ]
          },
          "metadata": {
            "tags": []
          },
          "execution_count": 23
        }
      ]
    },
    {
      "cell_type": "markdown",
      "metadata": {
        "id": "sTQx7_xaOec0"
      },
      "source": [
        "### Train Test Split - Time Series Data\r\n",
        "\r\n",
        "All data till 2016 is in Training , Data after 2016 is in Testing"
      ]
    },
    {
      "cell_type": "code",
      "metadata": {
        "id": "5EgDN1j-ObkF"
      },
      "source": [
        "X_train = encoded_df.drop(labels='total', axis=1)[encoded_df['date'].dt.year <= 2016]\r\n",
        "X_test = encoded_df.drop(labels='total', axis=1)[encoded_df['date'].dt.year >= 2017]\r\n",
        "\r\n",
        "y_train = encoded_df[encoded_df['date'].dt.year <= 2016]['total'].values\r\n",
        "y_test = encoded_df[encoded_df['date'].dt.year >= 2017]['total'].values"
      ],
      "execution_count": 24,
      "outputs": []
    },
    {
      "cell_type": "code",
      "metadata": {
        "id": "JlBAhKRDO-cM"
      },
      "source": [
        "# Removing the 'date' column\r\n",
        "X_train.drop(labels='date', axis=True, inplace=True)\r\n",
        "X_test.drop(labels='date', axis=True, inplace=True)"
      ],
      "execution_count": 25,
      "outputs": []
    },
    {
      "cell_type": "code",
      "metadata": {
        "colab": {
          "base_uri": "https://localhost:8080/"
        },
        "id": "UrLXg-DJPA-Y",
        "outputId": "f0b68e62-1174-4bc4-e672-2e3aba2de157"
      },
      "source": [
        "print(X_train.shape,y_train.shape,X_test.shape,y_test.shape)"
      ],
      "execution_count": 26,
      "outputs": [
        {
          "output_type": "stream",
          "text": [
            "(37330, 21) (37330,) (2778, 21) (2778,)\n"
          ],
          "name": "stdout"
        }
      ]
    },
    {
      "cell_type": "markdown",
      "metadata": {
        "id": "KkxUfcghP7ib"
      },
      "source": [
        "### Model Building - Without applying any Feature Transformation to Features"
      ]
    },
    {
      "cell_type": "code",
      "metadata": {
        "colab": {
          "base_uri": "https://localhost:8080/"
        },
        "id": "eOHzUyVtPWhW",
        "outputId": "6a24f3f9-1117-4a90-f1c4-e348b34062ce"
      },
      "source": [
        "#creating a dictionary of the models(estimators) \r\n",
        "estimators = {\r\n",
        "    'Linear Regression': [LinearRegression()],\r\n",
        "    'Lasso' :[Lasso()],\r\n",
        "    'Ridge' :[Ridge()],\r\n",
        "    'KNN' :[KNeighborsRegressor()],\r\n",
        "    'Decision Tree' :[DecisionTreeRegressor()],\r\n",
        "    'Support Vector Regression':[SVR()],\r\n",
        "    'Random Forest' :[RandomForestRegressor()],\r\n",
        "    'Gradient Boosting':[GradientBoostingRegressor()],\r\n",
        "    'XG Boost': [XGBRegressor(objective='reg:squarederror')],\r\n",
        "    'LGBM':[LGBMRegressor()],\r\n",
        "    'Cat Boost':[CatBoostRegressor(verbose=0, n_estimators=100)],\r\n",
        "}\r\n",
        "\r\n",
        "#writing a function to fit models above to the train dataset\r\n",
        "def mfit(estimators, X_train, y_train):\r\n",
        "    for m in estimators:\r\n",
        "        estimators[m][0].fit(X_train, y_train)\r\n",
        "        print(m+' fitted')\r\n",
        "\r\n",
        "mfit(estimators, X_train, y_train)"
      ],
      "execution_count": 37,
      "outputs": [
        {
          "output_type": "stream",
          "text": [
            "Linear Regression fitted\n",
            "Lasso fitted\n",
            "Ridge fitted\n",
            "KNN fitted\n",
            "Decision Tree fitted\n",
            "Support Vector Regression fitted\n",
            "Random Forest fitted\n",
            "Gradient Boosting fitted\n",
            "XG Boost fitted\n",
            "LGBM fitted\n",
            "Cat Boost fitted\n"
          ],
          "name": "stdout"
        }
      ]
    },
    {
      "cell_type": "code",
      "metadata": {
        "id": "jWLZpGC8XcZI"
      },
      "source": [
        "#applying the fitted models to the test dataset\r\n",
        "def mpredict(estimators, X_test, y_test):\r\n",
        "    outcome = dict()\r\n",
        "    for m in estimators:\r\n",
        "        y_pred = estimators[m][0].predict(X_test)\r\n",
        "        outcome[m] = [round(metrics.r2_score(y_test, y_pred), 2), \r\n",
        "                      metrics.mean_absolute_error(y_test, y_pred),\r\n",
        "                     \r\n",
        "                     metrics.mean_squared_error(y_test, y_pred),\r\n",
        "                     np.sqrt(metrics.mean_squared_error(y_test, y_pred))]\r\n",
        "    return outcome\r\n",
        "\r\n",
        "outcome = mpredict(estimators, X_test, y_test)"
      ],
      "execution_count": 38,
      "outputs": []
    },
    {
      "cell_type": "code",
      "metadata": {
        "colab": {
          "base_uri": "https://localhost:8080/"
        },
        "id": "zH2PHVu9b177",
        "outputId": "1f512450-2f4b-405b-e1b5-25d3a905c66b"
      },
      "source": [
        "outcome"
      ],
      "execution_count": 42,
      "outputs": [
        {
          "output_type": "execute_result",
          "data": {
            "text/plain": [
              "{'Cat Boost': [0.73, 13.007552470931664, 277.8481552807143, 16.66877785804089],\n",
              " 'Decision Tree': [0.47,\n",
              "  17.146508279337652,\n",
              "  538.3041756659467,\n",
              "  23.201383055023825],\n",
              " 'Gradient Boosting': [0.73,\n",
              "  12.867882893149789,\n",
              "  277.95328337791193,\n",
              "  16.671931003273492],\n",
              " 'KNN': [0.6, 15.136357091432686, 400.4675017998561, 20.011684132022875],\n",
              " 'LGBM': [0.73, 12.945875222091612, 277.6182922085903, 16.661881412631356],\n",
              " 'Lasso': [0.74, 12.214053814850248, 262.3797366400716, 16.198139912967527],\n",
              " 'Linear Regression': [0.75,\n",
              "  12.118617546193294,\n",
              "  251.00792310417438,\n",
              "  15.843229566732106],\n",
              " 'Random Forest': [0.66,\n",
              "  13.86613102951764,\n",
              "  340.20636936437086,\n",
              "  18.444684040784512],\n",
              " 'Ridge': [0.75, 12.11858440825125, 251.00850756690366, 15.843248011910426],\n",
              " 'Support Vector Regression': [0.64,\n",
              "  14.474241481155584,\n",
              "  361.263827690966,\n",
              "  19.006941565937588],\n",
              " 'XG Boost': [0.72, 13.05965037720078, 288.16571383075734, 16.975444436914085]}"
            ]
          },
          "metadata": {
            "tags": []
          },
          "execution_count": 42
        }
      ]
    },
    {
      "cell_type": "code",
      "metadata": {
        "colab": {
          "base_uri": "https://localhost:8080/"
        },
        "id": "-T2CV8clYZ2g",
        "outputId": "b6c71443-ad2e-49da-f61a-cdab88bd23ea"
      },
      "source": [
        "#printing the regression errors as metrics for the model evaluation\r\n",
        "for m in outcome:\r\n",
        "    print('------------------------'+m+'------------------------')\r\n",
        "    print('R2 score', round(outcome[m][0],2))\r\n",
        "    print('MAE', round(outcome[m][1],2))\r\n",
        "    print('MSE', round(outcome[m][2],2))\r\n",
        "    print('RMSE', round(outcome[m][3],2))"
      ],
      "execution_count": 39,
      "outputs": [
        {
          "output_type": "stream",
          "text": [
            "------------------------Linear Regression------------------------\n",
            "R2 score 0.75\n",
            "MAE 12.12\n",
            "MSE 251.01\n",
            "RMSE 15.84\n",
            "------------------------Lasso------------------------\n",
            "R2 score 0.74\n",
            "MAE 12.21\n",
            "MSE 262.38\n",
            "RMSE 16.2\n",
            "------------------------Ridge------------------------\n",
            "R2 score 0.75\n",
            "MAE 12.12\n",
            "MSE 251.01\n",
            "RMSE 15.84\n",
            "------------------------KNN------------------------\n",
            "R2 score 0.6\n",
            "MAE 15.14\n",
            "MSE 400.47\n",
            "RMSE 20.01\n",
            "------------------------Decision Tree------------------------\n",
            "R2 score 0.47\n",
            "MAE 17.15\n",
            "MSE 538.3\n",
            "RMSE 23.2\n",
            "------------------------Support Vector Regression------------------------\n",
            "R2 score 0.64\n",
            "MAE 14.47\n",
            "MSE 361.26\n",
            "RMSE 19.01\n",
            "------------------------Random Forest------------------------\n",
            "R2 score 0.66\n",
            "MAE 13.87\n",
            "MSE 340.21\n",
            "RMSE 18.44\n",
            "------------------------Gradient Boosting------------------------\n",
            "R2 score 0.73\n",
            "MAE 12.87\n",
            "MSE 277.95\n",
            "RMSE 16.67\n",
            "------------------------XG Boost------------------------\n",
            "R2 score 0.72\n",
            "MAE 13.06\n",
            "MSE 288.17\n",
            "RMSE 16.98\n",
            "------------------------LGBM------------------------\n",
            "R2 score 0.73\n",
            "MAE 12.95\n",
            "MSE 277.62\n",
            "RMSE 16.66\n",
            "------------------------Cat Boost------------------------\n",
            "R2 score 0.73\n",
            "MAE 13.01\n",
            "MSE 277.85\n",
            "RMSE 16.67\n"
          ],
          "name": "stdout"
        }
      ]
    },
    {
      "cell_type": "markdown",
      "metadata": {
        "id": "xQLoSdADY30e"
      },
      "source": [
        "### Saving All Above models"
      ]
    },
    {
      "cell_type": "code",
      "metadata": {
        "colab": {
          "base_uri": "https://localhost:8080/"
        },
        "id": "ILH11XrDYnHj",
        "outputId": "723b339b-96a2-43fa-f7ae-05a22b6192e3"
      },
      "source": [
        "estimators"
      ],
      "execution_count": 40,
      "outputs": [
        {
          "output_type": "execute_result",
          "data": {
            "text/plain": [
              "{'Cat Boost': [<catboost.core.CatBoostRegressor at 0x7f919b7879b0>],\n",
              " 'Decision Tree': [DecisionTreeRegressor(ccp_alpha=0.0, criterion='mse', max_depth=None,\n",
              "                        max_features=None, max_leaf_nodes=None,\n",
              "                        min_impurity_decrease=0.0, min_impurity_split=None,\n",
              "                        min_samples_leaf=1, min_samples_split=2,\n",
              "                        min_weight_fraction_leaf=0.0, presort='deprecated',\n",
              "                        random_state=None, splitter='best')],\n",
              " 'Gradient Boosting': [GradientBoostingRegressor(alpha=0.9, ccp_alpha=0.0, criterion='friedman_mse',\n",
              "                            init=None, learning_rate=0.1, loss='ls', max_depth=3,\n",
              "                            max_features=None, max_leaf_nodes=None,\n",
              "                            min_impurity_decrease=0.0, min_impurity_split=None,\n",
              "                            min_samples_leaf=1, min_samples_split=2,\n",
              "                            min_weight_fraction_leaf=0.0, n_estimators=100,\n",
              "                            n_iter_no_change=None, presort='deprecated',\n",
              "                            random_state=None, subsample=1.0, tol=0.0001,\n",
              "                            validation_fraction=0.1, verbose=0, warm_start=False)],\n",
              " 'KNN': [KNeighborsRegressor(algorithm='auto', leaf_size=30, metric='minkowski',\n",
              "                      metric_params=None, n_jobs=None, n_neighbors=5, p=2,\n",
              "                      weights='uniform')],\n",
              " 'LGBM': [LGBMRegressor(boosting_type='gbdt', class_weight=None, colsample_bytree=1.0,\n",
              "                importance_type='split', learning_rate=0.1, max_depth=-1,\n",
              "                min_child_samples=20, min_child_weight=0.001, min_split_gain=0.0,\n",
              "                n_estimators=100, n_jobs=-1, num_leaves=31, objective=None,\n",
              "                random_state=None, reg_alpha=0.0, reg_lambda=0.0, silent=True,\n",
              "                subsample=1.0, subsample_for_bin=200000, subsample_freq=0)],\n",
              " 'Lasso': [Lasso(alpha=1.0, copy_X=True, fit_intercept=True, max_iter=1000,\n",
              "        normalize=False, positive=False, precompute=False, random_state=None,\n",
              "        selection='cyclic', tol=0.0001, warm_start=False)],\n",
              " 'Linear Regression': [LinearRegression(copy_X=True, fit_intercept=True, n_jobs=None, normalize=False)],\n",
              " 'Random Forest': [RandomForestRegressor(bootstrap=True, ccp_alpha=0.0, criterion='mse',\n",
              "                        max_depth=None, max_features='auto', max_leaf_nodes=None,\n",
              "                        max_samples=None, min_impurity_decrease=0.0,\n",
              "                        min_impurity_split=None, min_samples_leaf=1,\n",
              "                        min_samples_split=2, min_weight_fraction_leaf=0.0,\n",
              "                        n_estimators=100, n_jobs=None, oob_score=False,\n",
              "                        random_state=None, verbose=0, warm_start=False)],\n",
              " 'Ridge': [Ridge(alpha=1.0, copy_X=True, fit_intercept=True, max_iter=None,\n",
              "        normalize=False, random_state=None, solver='auto', tol=0.001)],\n",
              " 'Support Vector Regression': [SVR(C=1.0, cache_size=200, coef0=0.0, degree=3, epsilon=0.1, gamma='scale',\n",
              "      kernel='rbf', max_iter=-1, shrinking=True, tol=0.001, verbose=False)],\n",
              " 'XG Boost': [XGBRegressor(base_score=0.5, booster='gbtree', colsample_bylevel=1,\n",
              "               colsample_bynode=1, colsample_bytree=1, gamma=0,\n",
              "               importance_type='gain', learning_rate=0.1, max_delta_step=0,\n",
              "               max_depth=3, min_child_weight=1, missing=None, n_estimators=100,\n",
              "               n_jobs=1, nthread=None, objective='reg:squarederror',\n",
              "               random_state=0, reg_alpha=0, reg_lambda=1, scale_pos_weight=1,\n",
              "               seed=None, silent=None, subsample=1, verbosity=1)]}"
            ]
          },
          "metadata": {
            "tags": []
          },
          "execution_count": 40
        }
      ]
    },
    {
      "cell_type": "code",
      "metadata": {
        "id": "tsdrnBYjY_8T"
      },
      "source": [
        "for m in estimators:\r\n",
        "\r\n",
        "  # open a file, where you ant to store the data\r\n",
        "  file = open(m+'_model.pkl', 'wb')\r\n",
        "\r\n",
        "  # dump information to that file\r\n",
        "  pickle.dump(estimators[m][0], file)"
      ],
      "execution_count": 41,
      "outputs": []
    },
    {
      "cell_type": "markdown",
      "metadata": {
        "id": "36eSSkypaYCb"
      },
      "source": [
        "#### Model Building -- On Scaled Data"
      ]
    },
    {
      "cell_type": "code",
      "metadata": {
        "colab": {
          "base_uri": "https://localhost:8080/"
        },
        "id": "F4nWDdqaZRSC",
        "outputId": "6bacb8e7-7f19-46ab-f8e3-169a23f598ed"
      },
      "source": [
        "sc = StandardScaler()\r\n",
        "X_train_st = sc.fit_transform(X_train)\r\n",
        "X_test_st = sc.transform(X_test)\r\n",
        "\r\n",
        "mfit(estimators, X_train_st, y_train)\r\n",
        "outcome = mpredict(estimators, X_test_st, y_test)\r\n",
        "\r\n",
        "### Outcome output\r\n",
        "#printing the regression errors as metrics for the model evaluation\r\n",
        "for m in outcome:\r\n",
        "    print('------------------------'+m+'------------------------')\r\n",
        "    print('R2 score', round(outcome[m][0],2))\r\n",
        "    print('MAE', round(outcome[m][1],2))\r\n",
        "    print('MSE', round(outcome[m][2],2))\r\n",
        "    print('RMSE', round(outcome[m][3],2))"
      ],
      "execution_count": 43,
      "outputs": [
        {
          "output_type": "stream",
          "text": [
            "Linear Regression fitted\n",
            "Lasso fitted\n",
            "Ridge fitted\n",
            "KNN fitted\n",
            "Decision Tree fitted\n",
            "Support Vector Regression fitted\n",
            "Random Forest fitted\n",
            "Gradient Boosting fitted\n",
            "XG Boost fitted\n",
            "LGBM fitted\n",
            "Cat Boost fitted\n",
            "------------------------Linear Regression------------------------\n",
            "R2 score 0.75\n",
            "MAE 12.09\n",
            "MSE 250.24\n",
            "RMSE 15.82\n",
            "------------------------Lasso------------------------\n",
            "R2 score 0.7\n",
            "MAE 13.41\n",
            "MSE 304.15\n",
            "RMSE 17.44\n",
            "------------------------Ridge------------------------\n",
            "R2 score 0.75\n",
            "MAE 12.12\n",
            "MSE 251.02\n",
            "RMSE 15.84\n",
            "------------------------KNN------------------------\n",
            "R2 score 0.18\n",
            "MAE 23.3\n",
            "MSE 833.56\n",
            "RMSE 28.87\n",
            "------------------------Decision Tree------------------------\n",
            "R2 score 0.46\n",
            "MAE 17.17\n",
            "MSE 544.35\n",
            "RMSE 23.33\n",
            "------------------------Support Vector Regression------------------------\n",
            "R2 score 0.72\n",
            "MAE 13.66\n",
            "MSE 287.74\n",
            "RMSE 16.96\n",
            "------------------------Random Forest------------------------\n",
            "R2 score 0.67\n",
            "MAE 13.83\n",
            "MSE 334.13\n",
            "RMSE 18.28\n",
            "------------------------Gradient Boosting------------------------\n",
            "R2 score 0.73\n",
            "MAE 12.87\n",
            "MSE 277.95\n",
            "RMSE 16.67\n",
            "------------------------XG Boost------------------------\n",
            "R2 score 0.72\n",
            "MAE 13.06\n",
            "MSE 288.17\n",
            "RMSE 16.98\n",
            "------------------------LGBM------------------------\n",
            "R2 score 0.73\n",
            "MAE 12.95\n",
            "MSE 277.62\n",
            "RMSE 16.66\n",
            "------------------------Cat Boost------------------------\n",
            "R2 score 0.73\n",
            "MAE 13.01\n",
            "MSE 277.85\n",
            "RMSE 16.67\n"
          ],
          "name": "stdout"
        }
      ]
    },
    {
      "cell_type": "markdown",
      "metadata": {
        "id": "C6CHlc70eRrS"
      },
      "source": [
        "### Hyper-parameter Optimization"
      ]
    },
    {
      "cell_type": "markdown",
      "metadata": {
        "id": "mgDQl8Z_fDsq"
      },
      "source": [
        "Ridge Regressor Optimization"
      ]
    },
    {
      "cell_type": "code",
      "metadata": {
        "colab": {
          "base_uri": "https://localhost:8080/"
        },
        "id": "eXFfPoVMbnh6",
        "outputId": "5361d8c2-480b-4a20-e5bc-72890b18006e"
      },
      "source": [
        "ridge=Ridge()\r\n",
        "parameters={'alpha':[1e-15,1e-10,1e-8,1e-3,1e-2,1,5,10,20,30,35,40]}\r\n",
        "ridge_regressor=GridSearchCV(ridge,parameters,scoring='neg_mean_squared_error',cv=5)\r\n",
        "ridge_regressor.fit(X_train,y_train)"
      ],
      "execution_count": 44,
      "outputs": [
        {
          "output_type": "stream",
          "text": [
            "/usr/local/lib/python3.6/dist-packages/sklearn/linear_model/_ridge.py:148: LinAlgWarning: Ill-conditioned matrix (rcond=5.61566e-20): result may not be accurate.\n",
            "  overwrite_a=True).T\n",
            "/usr/local/lib/python3.6/dist-packages/sklearn/linear_model/_ridge.py:148: LinAlgWarning: Ill-conditioned matrix (rcond=1.41749e-18): result may not be accurate.\n",
            "  overwrite_a=True).T\n",
            "/usr/local/lib/python3.6/dist-packages/sklearn/linear_model/_ridge.py:148: LinAlgWarning: Ill-conditioned matrix (rcond=1.45442e-18): result may not be accurate.\n",
            "  overwrite_a=True).T\n",
            "/usr/local/lib/python3.6/dist-packages/sklearn/linear_model/_ridge.py:148: LinAlgWarning: Ill-conditioned matrix (rcond=1.40095e-18): result may not be accurate.\n",
            "  overwrite_a=True).T\n",
            "/usr/local/lib/python3.6/dist-packages/sklearn/linear_model/_ridge.py:148: LinAlgWarning: Ill-conditioned matrix (rcond=1.62242e-18): result may not be accurate.\n",
            "  overwrite_a=True).T\n",
            "/usr/local/lib/python3.6/dist-packages/sklearn/linear_model/_ridge.py:148: LinAlgWarning: Ill-conditioned matrix (rcond=1.57111e-18): result may not be accurate.\n",
            "  overwrite_a=True).T\n"
          ],
          "name": "stderr"
        },
        {
          "output_type": "execute_result",
          "data": {
            "text/plain": [
              "GridSearchCV(cv=5, error_score=nan,\n",
              "             estimator=Ridge(alpha=1.0, copy_X=True, fit_intercept=True,\n",
              "                             max_iter=None, normalize=False, random_state=None,\n",
              "                             solver='auto', tol=0.001),\n",
              "             iid='deprecated', n_jobs=None,\n",
              "             param_grid={'alpha': [1e-15, 1e-10, 1e-08, 0.001, 0.01, 1, 5, 10,\n",
              "                                   20, 30, 35, 40]},\n",
              "             pre_dispatch='2*n_jobs', refit=True, return_train_score=False,\n",
              "             scoring='neg_mean_squared_error', verbose=0)"
            ]
          },
          "metadata": {
            "tags": []
          },
          "execution_count": 44
        }
      ]
    },
    {
      "cell_type": "code",
      "metadata": {
        "colab": {
          "base_uri": "https://localhost:8080/"
        },
        "id": "dY3WqYqHfMXk",
        "outputId": "3c59c99b-0f3a-4154-a934-e83bc51e6509"
      },
      "source": [
        "print(ridge_regressor.best_params_)\r\n",
        "print(ridge_regressor.best_score_)"
      ],
      "execution_count": 45,
      "outputs": [
        {
          "output_type": "stream",
          "text": [
            "{'alpha': 40}\n",
            "-328.4152792487924\n"
          ],
          "name": "stdout"
        }
      ]
    },
    {
      "cell_type": "code",
      "metadata": {
        "colab": {
          "base_uri": "https://localhost:8080/"
        },
        "id": "rrh8lYcAfUYf",
        "outputId": "e69bf276-db86-4c0d-8ccf-7801c12c7524"
      },
      "source": [
        "prediction=ridge_regressor.predict(X_test)\r\n",
        "print('R2 Score:',round(metrics.r2_score(y_test, prediction), 2))\r\n",
        "print('MAE:', metrics.mean_absolute_error(y_test, prediction))\r\n",
        "print('MSE:', metrics.mean_squared_error(y_test, prediction))\r\n",
        "print('RMSE:', np.sqrt(metrics.mean_squared_error(y_test, prediction)))"
      ],
      "execution_count": 46,
      "outputs": [
        {
          "output_type": "stream",
          "text": [
            "R2 Score: 0.75\n",
            "MAE: 12.117294527005022\n",
            "MSE: 251.03172964112716\n",
            "RMSE: 15.843980864704651\n"
          ],
          "name": "stdout"
        }
      ]
    },
    {
      "cell_type": "markdown",
      "metadata": {
        "id": "pCmk2biWfxRH"
      },
      "source": [
        "Similarly we can do Hyper-parameter optimization of other Alogirithms \r\n",
        "\r\n",
        "Soon I will be adding code of Hyper parameter optimization for all above algorithms "
      ]
    },
    {
      "cell_type": "markdown",
      "metadata": {
        "id": "TMRRnOjNgBsm"
      },
      "source": [
        "#### Ensemble Techique : Combining Multiple Models"
      ]
    },
    {
      "cell_type": "markdown",
      "metadata": {
        "id": "YaE0zfNthouM"
      },
      "source": [
        "Training on Without Scaled Data"
      ]
    },
    {
      "cell_type": "code",
      "metadata": {
        "colab": {
          "base_uri": "https://localhost:8080/"
        },
        "id": "BycChOinfrry",
        "outputId": "ec1cd70a-32f2-43f6-aefd-639f393f2160"
      },
      "source": [
        "lr = LinearRegression()\r\n",
        "ridge = Ridge()\r\n",
        "rf=RandomForestRegressor()\r\n",
        "xg=XGBRegressor()\r\n",
        "dt=DecisionTreeRegressor()\r\n",
        "svr=SVR()\r\n",
        "gbm=GradientBoostingRegressor()\r\n",
        "lgbm=LGBMRegressor()\r\n",
        "catboost=CatBoostRegressor(verbose=0, n_estimators=100)\r\n",
        "\r\n",
        "Ens = VotingRegressor( \r\n",
        "    estimators= [('Linear',lrb),('Ridge',ridge),('RandomForestRegressor',rf),\r\n",
        "                 ('XGBRegressor',xg),('DT',dt),('SVR',svr),\r\n",
        "                 ('GBM',gbm),('Lgbm',lgbm),('Catboost',catboost)   \r\n",
        "                ])\r\n",
        "\r\n",
        "## Training the Ensemble learning:\r\n",
        "Ens= Ens.fit(X_train , y_train)\r\n",
        "\r\n",
        "pred = Ens.predict(X_test)\r\n",
        "print(\"R2 score =\", round(metrics.r2_score(y_test, pred), 2))\r\n",
        "print('MAE:', metrics.mean_absolute_error(y_test, pred))\r\n",
        "print('MSE:', metrics.mean_squared_error(y_test, pred))\r\n",
        "print('RMSE:', np.sqrt(metrics.mean_squared_error(y_test, pred)))\r\n",
        "\r\n",
        "#Accuracy of Ensemble learning:\r\n",
        "print('Accuracy score of Ensemble Learning is = {:.2f}'.format(Ens.score(X_test, y_test)),'%')"
      ],
      "execution_count": 48,
      "outputs": [
        {
          "output_type": "stream",
          "text": [
            "[15:47:33] WARNING: /workspace/src/objective/regression_obj.cu:152: reg:linear is now deprecated in favor of reg:squarederror.\n",
            "R2 score = 0.74\n",
            "MAE: 12.36605336973758\n",
            "MSE: 260.6798617204975\n",
            "RMSE: 16.145583350269433\n",
            "Accuracy score of Ensemble Learning is = 0.74 %\n"
          ],
          "name": "stdout"
        }
      ]
    },
    {
      "cell_type": "code",
      "metadata": {
        "id": "3WzXLRKkiAuK"
      },
      "source": [
        "file = open('Combined_model_without_scaling.pkl', 'wb')\r\n",
        "\r\n",
        "# dump information to that file\r\n",
        "pickle.dump(Ens, file)"
      ],
      "execution_count": 49,
      "outputs": []
    },
    {
      "cell_type": "markdown",
      "metadata": {
        "id": "puxEy_lViIdY"
      },
      "source": [
        "Training on Scaled Data"
      ]
    },
    {
      "cell_type": "code",
      "metadata": {
        "colab": {
          "base_uri": "https://localhost:8080/"
        },
        "id": "tfo12fSThuNr",
        "outputId": "3dd5b2c4-9d16-42a5-a82f-4d34ebc6e234"
      },
      "source": [
        "lr = LinearRegression()\r\n",
        "ridge = Ridge()\r\n",
        "rf=RandomForestRegressor()\r\n",
        "xg=XGBRegressor()\r\n",
        "dt=DecisionTreeRegressor()\r\n",
        "svr=SVR()\r\n",
        "gbm=GradientBoostingRegressor()\r\n",
        "lgbm=LGBMRegressor()\r\n",
        "catboost=CatBoostRegressor(verbose=0, n_estimators=100)\r\n",
        "\r\n",
        "Ens = VotingRegressor( \r\n",
        "    estimators= [('Linear',lr),('Ridge',ridge),('RandomForestRegressor',rf),\r\n",
        "                 ('XGBRegressor',xg),('DT',dt),('SVR',svr),\r\n",
        "                 ('GBM',gbm),('Lgbm',lgbm),('Catboost',catboost)   \r\n",
        "                ])\r\n",
        "\r\n",
        "## Training the Ensemble learning:\r\n",
        "Ens= Ens.fit(X_train_st , y_train)\r\n",
        "\r\n",
        "pred = Ens.predict(X_test_st)\r\n",
        "print(\"R2 score =\", round(metrics.r2_score(y_test, pred), 2))\r\n",
        "print('MAE:', metrics.mean_absolute_error(y_test, pred))\r\n",
        "print('MSE:', metrics.mean_squared_error(y_test, pred))\r\n",
        "print('RMSE:', np.sqrt(metrics.mean_squared_error(y_test, pred)))\r\n",
        "\r\n",
        "#Accuracy of Ensemble learning:\r\n",
        "print('Accuracy score of Ensemble Learning is = {:.2f}'.format(Ens.score(X_test_st, y_test)),'%')"
      ],
      "execution_count": 51,
      "outputs": [
        {
          "output_type": "stream",
          "text": [
            "[15:50:36] WARNING: /workspace/src/objective/regression_obj.cu:152: reg:linear is now deprecated in favor of reg:squarederror.\n",
            "R2 score = 0.75\n",
            "MAE: 12.258366468459824\n",
            "MSE: 257.1545287057534\n",
            "RMSE: 16.03603843552869\n",
            "Accuracy score of Ensemble Learning is = 0.75 %\n"
          ],
          "name": "stdout"
        }
      ]
    },
    {
      "cell_type": "code",
      "metadata": {
        "id": "pJwZR54miTsF"
      },
      "source": [
        "file = open('Combined_model_with_scaling.pkl', 'wb')\r\n",
        "\r\n",
        "# dump information to that file\r\n",
        "pickle.dump(Ens, file)"
      ],
      "execution_count": 52,
      "outputs": []
    },
    {
      "cell_type": "code",
      "metadata": {
        "id": "fNIfiw_IkhrN"
      },
      "source": [
        ""
      ],
      "execution_count": null,
      "outputs": []
    }
  ]
}